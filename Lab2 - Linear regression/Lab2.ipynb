{
 "cells": [
  {
   "cell_type": "markdown",
   "metadata": {
    "colab_type": "text",
    "id": "dZhhYOamXmg3"
   },
   "source": [
    "# DIT821 Software Engineering for AI systems\n",
    "\n",
    "DIT821 labs are derived from excercises from Coursera Machine Learning course.\n",
    "Students solve and submit the assignments in groups. To register your group, go to the Canvas page of DIT821, go to People -> Groups and sign up together with your group members so that you all have the same group number.\n",
    "\n",
    "_Towards the end of the course, you will be asked individually to explain the labs, in particular the parts that you have written. The labs will be approved upon sucssesful correct submission and discussion. _\n"
   ]
  },
  {
   "cell_type": "markdown",
   "metadata": {
    "colab_type": "text",
    "id": "awavTEV-Xmg6"
   },
   "source": [
    "Enter here the first name of all group members who participated in this assignment.\n",
    "\n",
    "- Name, e-mail:\n",
    "- Name, e-mail:\n",
    "- Name, e-mail:\n",
    "- Name, e-mail:\n"
   ]
  },
  {
   "cell_type": "markdown",
   "metadata": {
    "colab_type": "text",
    "id": "qyZajDLuXmg7"
   },
   "source": [
    "## Lab 2: Linear Regression\n",
    "\n",
    "## Introduction\n",
    "\n",
    "In this exercise, you will implement linear regression and get to see it work on data. Before starting on this programming exercise, we strongly recommend revisiting lecture slides.\n",
    "\n",
    "All the information you need for solving this assignment is in this notebook, and all the code you will be implementing will take place within this notebook. The assignment should be submitted to Canvas(instructions are included below).\n",
    "\n",
    "Before we begin with the exercises, we need to import all libraries required for this programming exercise. Throughout the course, we will be using:\n",
    "\n",
    "- [`numpy`](http://www.numpy.org/) for all arrays and matrix operations\n",
    "- [`matplotlib`](https://matplotlib.org/) for plotting.\n",
    "\n",
    "You can find instructions on how to install required libraries in the README file in the [github repository] (https://github.com/pierg/ai-course).\n"
   ]
  },
  {
   "cell_type": "markdown",
   "metadata": {
    "colab_type": "text",
    "id": "pCJbfwcXXmg8"
   },
   "source": [
    "## Exercise Structure\n",
    "\n",
    "For this programming exercise, you are required to implement three parts of linear regression. The following is a breakdown of how each part of this exercise.\n",
    "\n",
    "- Part 1: Linear regression (one feature)\n",
    "- Part 2: Linear regression (multiple features)\n",
    "- Part 3: Linear regression (multiple features, Normal Equation)\n",
    "\n",
    "Before begining the three parts, there is a simple exercise to help you familiarize with numpy in Python.\n",
    "\n",
    "| Part | Exercise                                            | Submitted Function                              |\n",
    "| ---- | :-------------------------------------------------- | :---------------------------------------------- | --- |\n",
    "| 0    | [Warm up exercise](#section1)                       | [`warmUpExercise`](#warmUpExercise)             |\n",
    "| 1    | [Compute cost for one feature](#section2)           | [`computeCost`](#computeCost)                   |\n",
    "| 1    | [Gradient descent for one feature](#section3)       | [`gradientDescent`](#gradientDescent)           |\n",
    "| 2    | [Feature normalization](#section4)                  | [`featureNormalize`](#featureNormalize)         |     |\n",
    "| 2    | [Compute cost for multiple features](#section5)     | [`computeCostMulti`](#computeCostMulti)         | 0   |\n",
    "| 2    | [Gradient descent for multiple features](#section5) | [`gradientDescentMulti`](#gradientDescentMulti) | 0   |\n",
    "| 3    | [Normal Equation](#section7)                        | [`normalEqn`](#normalEqn)                       | 0   |\n",
    "\n",
    "<!--\n",
    "You are allowed to submit your solutions multiple times, and we will take only the highest score into consideration. -->\n",
    "\n",
    "<!--\n",
    "<div class=\"alert alert-block alert-warning\">\n",
    "At the end of each section in this notebook, we have a cell which contains code for submitting the solutions thus far to the grader. Execute the cell to see your score up to the current section. For all your work to be submitted properly, you must execute those cells at least once. They must also be re-executed everytime the submitted function is updated.\n",
    "</div>\n",
    "-->\n",
    "\n",
    "## Debugging\n",
    "\n",
    "Here are some things to keep in mind throughout this exercise:\n",
    "\n",
    "- Python array indices start from zero, not one (contrary to OCTAVE/MATLAB).\n",
    "\n",
    "- There is an important distinction between python arrays (called `list` or `tuple`) and `numpy` arrays. You should use `numpy` arrays in all your computations. Vector/matrix operations work only with `numpy` arrays. Python lists do not support vector operations (you need to use for loops).\n",
    "\n",
    "- If you are seeing many errors at runtime, inspect your matrix operations to make sure that you are adding and multiplying matrices of compatible dimensions. Printing the dimensions of `numpy` arrays using the `shape` property will help you debug.\n",
    "\n",
    "- By default, `numpy` interprets math operators to be element-wise operators. If you want to do matrix multiplication, you need to use the `dot` function in `numpy`. For, example if `A` and `B` are two `numpy` matrices, then the matrix operation AB is `np.dot(A, B)`. Note that for 2-dimensional matrices or vectors (1-dimensional), this is also equivalent to `A@B` (requires python >= 3.5).\n"
   ]
  },
  {
   "cell_type": "markdown",
   "metadata": {
    "colab_type": "text",
    "id": "Whke6asfXmg8"
   },
   "source": [
    "## Exercise start\n",
    "\n",
    "To be able to run the excercises you should run the part below (in Jupyter Noetbook called \"a cell\") to import libraries you will need.\n",
    "Note: Execute the cell either by klicling Run button or pressing Shift-Enter\n"
   ]
  },
  {
   "cell_type": "code",
   "execution_count": 210,
   "metadata": {
    "colab": {},
    "colab_type": "code",
    "id": "Zwd_DVzNXmg9"
   },
   "outputs": [],
   "source": [
    "# used for manipulating directory paths\n",
    "import os\n",
    "\n",
    "# Scientific and vector computation for python\n",
    "import numpy as np\n",
    "\n",
    "# Plotting library\n",
    "from matplotlib import pyplot\n",
    "from mpl_toolkits.mplot3d import Axes3D  # needed to plot 3-D surfaces\n",
    "\n",
    "# library written for this exercise providing additional functions for assignment submission, and others\n",
    "#import utils \n",
    "\n",
    "# define the submission/grader object for this exercise\n",
    "#grader = utils.Grader()\n",
    "\n",
    "# tells matplotlib to embed plots within the notebook\n",
    "%matplotlib inline"
   ]
  },
  {
   "cell_type": "markdown",
   "metadata": {
    "colab_type": "text",
    "id": "T4ODLW6UXmhC"
   },
   "source": [
    "##  Warm-up exercise \n",
    "\n",
    "This war-up gives you practice with python and `numpy` and `matplot`syntax. In the next cell, you will find the outline of a `python` function. Modify it to return a 5 x 5 identity matrix by filling in the following code:\n",
    "\n",
    "```python\n",
    "A = np.eye(5)\n",
    "```"
   ]
  },
  {
   "cell_type": "code",
   "execution_count": 211,
   "metadata": {
    "colab": {},
    "colab_type": "code",
    "id": "CF7ZdZaHXmhC"
   },
   "outputs": [],
   "source": [
    "def warmUpExercise():\n",
    "    \"\"\"\n",
    "    Example function in Python which computes the identity matrix.\n",
    "    \n",
    "    Returns\n",
    "    -------\n",
    "    A : array_like\n",
    "        The 5x5 identity matrix.\n",
    "    \n",
    "    Instructions\n",
    "    ------------\n",
    "    Return the 5x5 identity matrix.\n",
    "    \"\"\"    \n",
    "    # ======== YOUR CODE HERE ======\n",
    "     # modify this line\n",
    "    A = np.eye(5)\n",
    "    # ==============================\n",
    "    return A"
   ]
  },
  {
   "cell_type": "markdown",
   "metadata": {
    "colab_type": "text",
    "id": "rN4jtG1uXmhF"
   },
   "source": [
    "<a id=\"section1\"></a>\n",
    "## Simple python: `numpy`  and `matplot` function\n",
    "\n",
    "This warm-up exercise gives you practice with python and `numpy` and `matplot`syntax. \n",
    "\n",
    "<div class=\"alert alert-block alert-warning\">\n",
    "    \n",
    "* A numpy array is a grid of values, all of the same type, and is indexed by a tuple of nonnegative integers.\n",
    "* You initialize numpy arrays from nested Python lists, and access elements using square brackets\n",
    "```python\n",
    "      a = np.array([1, 2, 3]) # Creates an array of 1 axis\n",
    "```\n",
    "* NumPy’s array class is called ndarray (alias array) has the following important attributes (Note 'a' is the initialized array above): \n",
    "```python\n",
    "      a.shape # The dimension of array\n",
    "      a.size # Total number of elements of the array\n",
    "      a.dtype # Describes the type of the elements\n",
    "```\n",
    "* Numpy also provides many functions to create arrays:\n",
    "```python\n",
    "      a = np.zeros((2,2)) # Creates an array of all zeros\n",
    "      b = np.ones((1,2))  # Creates an array of all ones\n",
    "      c = np.full((2,2), 7)# Creates an array of constants\n",
    "      d = np.eye(2) # Creates a 2x2 identity matrix\n",
    "      e = np.random.random((2,2)) # Creates an array filled with random values\n",
    " ```   \n",
    "</div>\n",
    "<a id=\"warmUpExercise\"></a>"
   ]
  },
  {
   "cell_type": "markdown",
   "metadata": {
    "colab_type": "text",
    "id": "fVxXCA7GXmhF"
   },
   "source": [
    "The previous cell only defines the function `warmUpExercise`. We can now run it by executing the following cell to see its output. You should see output similar to the following:\n",
    "\n",
    "```python\n",
    "array([[ 1.,  0.,  0.,  0.,  0.],\n",
    "       [ 0.,  1.,  0.,  0.,  0.],\n",
    "       [ 0.,  0.,  1.,  0.,  0.],\n",
    "       [ 0.,  0.,  0.,  1.,  0.],\n",
    "       [ 0.,  0.,  0.,  0.,  1.]])\n",
    "```"
   ]
  },
  {
   "cell_type": "code",
   "execution_count": 212,
   "metadata": {
    "colab": {},
    "colab_type": "code",
    "id": "xc17TaUSXmhG"
   },
   "outputs": [
    {
     "data": {
      "text/plain": [
       "array([[1., 0., 0., 0., 0.],\n",
       "       [0., 1., 0., 0., 0.],\n",
       "       [0., 0., 1., 0., 0.],\n",
       "       [0., 0., 0., 1., 0.],\n",
       "       [0., 0., 0., 0., 1.]])"
      ]
     },
     "execution_count": 212,
     "metadata": {},
     "output_type": "execute_result"
    }
   ],
   "source": [
    "warmUpExercise()"
   ]
  },
  {
   "cell_type": "markdown",
   "metadata": {
    "colab_type": "text",
    "id": "_8tuZmjIXmhN"
   },
   "source": [
    "### Ploting graphs\n",
    "Before starting on any task, it is often useful to understand the data by visualizing it. For example, you can use a scatter plot to visualize the data provided in this exercise (Data/ex1data1.txt), since it has only two properties to plot (profit and population).\n",
    "\n",
    "In this course, we will be exclusively using `matplotlib` to do all our plotting. `matplotlib` is one of the most popular scientific plotting libraries in python and has extensive tools and functions to make beautiful plots. `pyplot` is a module within `matplotlib` which provides a simplified interface to `matplotlib`'s most common plotting tasks.\n",
    "\n",
    "In the following part, your job is to complete the `plotData` function below. Modify the function and fill in the following code:\n",
    "\n",
    "```python\n",
    "    pyplot.plot(x, y, 'ro', ms=10, mec='k')\n",
    "    pyplot.ylabel('Profit in $10,000')\n",
    "    pyplot.xlabel('Population of City in 10,000s')\n",
    "    pyplot.show()\n",
    "```"
   ]
  },
  {
   "cell_type": "code",
   "execution_count": 213,
   "metadata": {
    "colab": {},
    "colab_type": "code",
    "id": "zNB5y8kAXmhN"
   },
   "outputs": [],
   "source": [
    "def plotData(x, y):\n",
    "    \"\"\"\n",
    "    Plots the data points x and y into a new figure. Plots the data \n",
    "    points and gives the figure axes labels of population and profit.\n",
    "    \n",
    "    Parameters\n",
    "    ----------\n",
    "    x : array_like\n",
    "        Data point values for x-axis.\n",
    "\n",
    "    y : array_like\n",
    "        Data point values for y-axis. Note x and y should have the same size.\n",
    "    \n",
    "    Instructions\n",
    "    ------------\n",
    "    Plot the training data into a figure using the \"figure\" and \"plot\"\n",
    "    functions. Set the axes labels using the \"xlabel\" and \"ylabel\" functions.\n",
    "    Assume the population and revenue data have been passed in as the x\n",
    "    and y arguments of this function.    \n",
    "    \n",
    "    Hint\n",
    "    ----\n",
    "    You can use the 'ro' option with plot to have the markers\n",
    "    appear as red circles. Furthermore, you can make the markers larger by\n",
    "    using plot(..., 'ro', ms=10), where `ms` refers to marker size. You \n",
    "    can also set the marker edge color using the `mec` property.\n",
    "    \"\"\"\n",
    "    fig = pyplot.figure()  # open a new figure   (Whyyyyyyy)\n",
    "    \n",
    "    # ====================== YOUR CODE HERE ======================= \n",
    "    pyplot.plot(x, y, 'ro', ms=10)\n",
    "    pyplot.ylabel('Profit in $10,000')\n",
    "    pyplot.xlabel('Population of City in 10,000s')\n",
    "    pyplot.show()\n",
    "\n",
    "    # =============================================================\n"
   ]
  },
  {
   "cell_type": "markdown",
   "metadata": {
    "colab_type": "text",
    "id": "XOs131qtXmhR"
   },
   "source": [
    "You will use this plotData function below after loading the dataset. To quickly learn more about the `matplotlib` plot function and what arguments you can provide to it, you can type `?pyplot.plot` in a cell within the jupyter notebook. This opens a separate page showing the documentation for the requested function. You can also search online for plotting documentation. \n",
    "\n",
    "To set the markers to red circles, we used the option `'or'` within the `plot` function."
   ]
  },
  {
   "cell_type": "code",
   "execution_count": 214,
   "metadata": {
    "colab": {},
    "colab_type": "code",
    "id": "4DGnaLrlXmhS"
   },
   "outputs": [
    {
     "data": {
      "image/png": "[encoded data removed]",
      "text/plain": [
       "<Figure size 432x288 with 1 Axes>"
      ]
     },
     "metadata": {
      "needs_background": "light"
     },
     "output_type": "display_data"
    }
   ],
   "source": [
    "x = list(range(0, 10))\n",
    "y = list(range(-10, 0))\n",
    "plotData(x, y)"
   ]
  },
  {
   "cell_type": "markdown",
   "metadata": {
    "colab_type": "text",
    "id": "sX403liCXmhV"
   },
   "source": [
    "## PART 1: Linear Regression (one feature)\n",
    "\n",
    "In this first part of the exercise you will implement linear regression with one feature to predict profits for a food truck.\n",
    "\n",
    "Suppose you are the CEO of a restaurant franchise and are considering different cities for opening a new outlet. The chain already has trucks in various cities and you have data for profits and populations from the cities. You would like to use this data to help you select which city to expand to next.\n",
    "\n",
    "The file `Data/ex1data1.txt` contains the dataset for our linear regression problem. The first column is the population of a city (in 10,000s) and the second column is the profit of a food truck in that city (in $10,000s). A negative value for profit indicates a loss.\n",
    "\n",
    "The below code is provided to load this data. The dataset is loaded from the data file into the variables `x` and `y`.\n",
    "\n",
    "<div class=\"alert alert-block alert-warning\">\n",
    "\n",
    "- You can load data from text file using the following, however note that each row in the text file must have the same number of values.):\n",
    "\n",
    "```python\n",
    "        np.loadtxt(fname, delimiter=None) #Parameter fname: file, str, or pathlib.Path\n",
    "```\n",
    "\n",
    "- Numpy offers ways to index into arrays e.g., using slicing. Similar to Python lists, numpy arrays can be sliced. Since arrays may be multidimensional, you must specify a slice for each dimension of the array\n",
    "\n",
    "```python\n",
    "\n",
    "       # Create an array with shape (3, 4)\n",
    "       a = np.array([[1,2,3,4], [5,6,7,8], [9,10,11,12]])\n",
    "\n",
    "       # Use slicing to pull out a new subarray 'b' consisting of the first 2 rows\n",
    "       # and columns 1 and 2; shape of b is (2, 2). Notice indexing starts at 0\n",
    "       # [[2 3]\n",
    "       #  [6 7]]\n",
    "       b = a[:2, 1:3]\n",
    "```\n",
    "\n",
    "</div>\n"
   ]
  },
  {
   "cell_type": "code",
   "execution_count": 215,
   "metadata": {
    "colab": {},
    "colab_type": "code",
    "id": "qdyInsOlXmhW"
   },
   "outputs": [
    {
     "name": "stdout",
     "output_type": "stream",
     "text": [
      "X=\n",
      " [ 6.1101  5.5277  8.5186  7.0032  5.8598  8.3829  7.4764  8.5781  6.4862\n",
      "  5.0546  5.7107 14.164   5.734   8.4084  5.6407  5.3794  6.3654  5.1301\n",
      "  6.4296  7.0708  6.1891 20.27    5.4901  6.3261  5.5649 18.945  12.828\n",
      " 10.957  13.176  22.203   5.2524  6.5894  9.2482  5.8918  8.2111  7.9334\n",
      "  8.0959  5.6063 12.836   6.3534  5.4069  6.8825 11.708   5.7737  7.8247\n",
      "  7.0931  5.0702  5.8014 11.7     5.5416  7.5402  5.3077  7.4239  7.6031\n",
      "  6.3328  6.3589  6.2742  5.6397  9.3102  9.4536  8.8254  5.1793 21.279\n",
      " 14.908  18.959   7.2182  8.2951 10.236   5.4994 20.341  10.136   7.3345\n",
      "  6.0062  7.2259  5.0269  6.5479  7.5386  5.0365 10.274   5.1077  5.7292\n",
      "  5.1884  6.3557  9.7687  6.5159  8.5172  9.1802  6.002   5.5204  5.0594\n",
      "  5.7077  7.6366  5.8707  5.3054  8.2934 13.394   5.4369]\n",
      "y=\n",
      " [17.592    9.1302  13.662   11.854    6.8233  11.886    4.3483  12.\n",
      "  6.5987   3.8166   3.2522  15.505    3.1551   7.2258   0.71618  3.5129\n",
      "  5.3048   0.56077  3.6518   5.3893   3.1386  21.767    4.263    5.1875\n",
      "  3.0825  22.638   13.501    7.0467  14.692   24.147   -1.22     5.9966\n",
      " 12.134    1.8495   6.5426   4.5623   4.1164   3.3928  10.117    5.4974\n",
      "  0.55657  3.9115   5.3854   2.4406   6.7318   1.0463   5.1337   1.844\n",
      "  8.0043   1.0179   6.7504   1.8396   4.2885   4.9981   1.4233  -1.4211\n",
      "  2.4756   4.6042   3.9624   5.4141   5.1694  -0.74279 17.929   12.054\n",
      " 17.054    4.8852   5.7442   7.7754   1.0173  20.992    6.6799   4.0259\n",
      "  1.2784   3.3411  -2.6807   0.29678  3.8845   5.7014   6.7526   2.0576\n",
      "  0.47953  0.20421  0.67861  7.5435   5.3436   4.2415   6.7981   0.92695\n",
      "  0.152    2.8214   1.8451   4.2959   7.2029   1.9869   0.14454  9.0551\n",
      "  0.61705]\n",
      "m= 97\n"
     ]
    }
   ],
   "source": [
    "# Read comma separated data\n",
    "data = np.loadtxt(os.path.join('Data', 'ex1data1.txt'), delimiter=',')\n",
    "X, y = data[:, 0], data[:, 1]\n",
    "\n",
    "m = y.size  # number of training examples\n",
    "\n",
    "# if you wish to print the values of the variables uncomment the lines below\n",
    "print('X=\\n',X)\n",
    "print('y=\\n', y)\n",
    "print('m=', m)\n"
   ]
  },
  {
   "cell_type": "markdown",
   "metadata": {
    "colab_type": "text",
    "id": "kX5g-2TWXmhb"
   },
   "source": [
    "You can visualize the loaded data by running the `plotData` function defined earlier. Execute the next cell to visualize the data.\n"
   ]
  },
  {
   "cell_type": "code",
   "execution_count": 216,
   "metadata": {
    "colab": {},
    "colab_type": "code",
    "id": "1ABHXWllXmhc"
   },
   "outputs": [
    {
     "data": {
      "image/png": "[encoded data removed]",
      "text/plain": [
       "<Figure size 432x288 with 1 Axes>"
      ]
     },
     "metadata": {
      "needs_background": "light"
     },
     "output_type": "display_data"
    }
   ],
   "source": [
    "plotData(X, y)\n"
   ]
  },
  {
   "cell_type": "markdown",
   "metadata": {
    "colab_type": "text",
    "id": "s9WWGR7dXmhe"
   },
   "source": [
    "### Recall the following.\n",
    "\n",
    "A linear function:\n",
    "$$ h(x) = \\hat y = mx + b$$\n",
    "\n",
    "Loss function is used to measure how much a data point is distant from the hypothesis.\n",
    "\n",
    "Square loss:\n",
    "$$ (y_i - \\hat y_i)^2 $$\n",
    "\n",
    "Cost function - loss function across the entire training set.\n",
    "\n",
    "Summed Squared Loss (SSE):\n",
    "$$ \\sum\\_{i=1}^N (y_i - \\hat y_i)^2 $$\n",
    "\n",
    "Mean Squared Error (MSE):\n",
    "$$ \\frac{1}{N}\\sum\\_{i=1}^N(y_i - \\hat y_i)^2$$\n",
    "\n",
    "And the sum in MSE is:\n",
    "$$ (y*{1}-(mx_1 + b))^2 + (y*{2}-(mx*2 + b))^2 + ...+ (y*{N}-(mx_N + b))^2 $$\n",
    "\n",
    "The objective to minimize cost function with respect to $m$ and $b$:\n",
    "$$ J(m, b) = (y*{1}-(mx_1 + b))^2 + (y*{2}-(mx*2 + b))^2 + ...+ (y*{N}-(mx_N + b))^2 $$\n",
    "\n",
    "We redefine $m$ and $b$ with $w_1$ and $w_0$ respectively, cost function:\n",
    "$$ Loss(h*w) = \\sum*{j=1}^N L*2(y_j, h_w(x_j)) = \\sum*{j=1}^N (y*j- h_w(x_j))^2 = \\sum*{j=1}^N(y_j - (w_1x_j+w_0))^2 $$\n",
    "\n",
    "where the hypothesis $h_w(x)$ is given by the linear model\n",
    "$$ h_w(x) = w_0 + w_1 x_1 + w_2x_2 + ....+ w_nx_n = w^T x$$\n",
    "\n",
    "Thus, cost function using MSE:\n",
    "\n",
    "$$ J(w) = \\frac{1}{2m} \\sum*{i=1}^m \\left( h*{w}(x^{(i)}) - y^{(i)}\\right)^2$$\n"
   ]
  },
  {
   "cell_type": "markdown",
   "metadata": {
    "colab_type": "text",
    "id": "3Z61f4l0Xmhf"
   },
   "source": [
    "Recall that the parameters of your model are the $w_j$ values. These are\n",
    "the values you will adjust to minimize cost $J(w)$. One way to do this is to\n",
    "use the batch gradient descent algorithm. In batch gradient descent, each\n",
    "iteration performs the update\n",
    "\n",
    "$$ w*j = w_j - \\alpha \\frac{1}{m} \\sum*{i=1}^m \\left( h_w(x^{(i)}) - y^{(i)}\\right)x_j^{(i)} \\qquad \\text{simultaneously update } w_j \\text{ for all } j$$\n",
    "\n",
    "$\\alpha$ is a learning rate - a factor that defines the size of each step in the iterations.\n",
    "\n",
    "With each step of gradient descent, your parameters $w_j$ come closer to the optimal values that will achieve the lowest cost J($w$).\n",
    "\n",
    "<div class=\"alert alert-block alert-warning\">\n",
    "**Implementation Note:** We store each example as a row in the the $X$ matrix in Python `numpy`. To take into account the intercept term ($w_0$), we add an additional first column to $X$ and set it to all ones. This allows us to treat $w_0$ as simply another 'feature'.\n",
    "</div>\n",
    "\n",
    "#### Implementation\n",
    "\n",
    "We have already set up the data for linear regression. In the following cell, we add another dimension to our data to accommodate the $w_0$ intercept term. Do NOT execute this cell more than once.\n"
   ]
  },
  {
   "cell_type": "code",
   "execution_count": 217,
   "metadata": {
    "colab": {},
    "colab_type": "code",
    "id": "IoOXRGz-Xmhf"
   },
   "outputs": [
    {
     "name": "stdout",
     "output_type": "stream",
     "text": [
      "[[ 1.      6.1101]\n",
      " [ 1.      5.5277]\n",
      " [ 1.      8.5186]\n",
      " [ 1.      7.0032]\n",
      " [ 1.      5.8598]\n",
      " [ 1.      8.3829]\n",
      " [ 1.      7.4764]\n",
      " [ 1.      8.5781]\n",
      " [ 1.      6.4862]\n",
      " [ 1.      5.0546]\n",
      " [ 1.      5.7107]\n",
      " [ 1.     14.164 ]\n",
      " [ 1.      5.734 ]\n",
      " [ 1.      8.4084]\n",
      " [ 1.      5.6407]\n",
      " [ 1.      5.3794]\n",
      " [ 1.      6.3654]\n",
      " [ 1.      5.1301]\n",
      " [ 1.      6.4296]\n",
      " [ 1.      7.0708]\n",
      " [ 1.      6.1891]\n",
      " [ 1.     20.27  ]\n",
      " [ 1.      5.4901]\n",
      " [ 1.      6.3261]\n",
      " [ 1.      5.5649]\n",
      " [ 1.     18.945 ]\n",
      " [ 1.     12.828 ]\n",
      " [ 1.     10.957 ]\n",
      " [ 1.     13.176 ]\n",
      " [ 1.     22.203 ]\n",
      " [ 1.      5.2524]\n",
      " [ 1.      6.5894]\n",
      " [ 1.      9.2482]\n",
      " [ 1.      5.8918]\n",
      " [ 1.      8.2111]\n",
      " [ 1.      7.9334]\n",
      " [ 1.      8.0959]\n",
      " [ 1.      5.6063]\n",
      " [ 1.     12.836 ]\n",
      " [ 1.      6.3534]\n",
      " [ 1.      5.4069]\n",
      " [ 1.      6.8825]\n",
      " [ 1.     11.708 ]\n",
      " [ 1.      5.7737]\n",
      " [ 1.      7.8247]\n",
      " [ 1.      7.0931]\n",
      " [ 1.      5.0702]\n",
      " [ 1.      5.8014]\n",
      " [ 1.     11.7   ]\n",
      " [ 1.      5.5416]\n",
      " [ 1.      7.5402]\n",
      " [ 1.      5.3077]\n",
      " [ 1.      7.4239]\n",
      " [ 1.      7.6031]\n",
      " [ 1.      6.3328]\n",
      " [ 1.      6.3589]\n",
      " [ 1.      6.2742]\n",
      " [ 1.      5.6397]\n",
      " [ 1.      9.3102]\n",
      " [ 1.      9.4536]\n",
      " [ 1.      8.8254]\n",
      " [ 1.      5.1793]\n",
      " [ 1.     21.279 ]\n",
      " [ 1.     14.908 ]\n",
      " [ 1.     18.959 ]\n",
      " [ 1.      7.2182]\n",
      " [ 1.      8.2951]\n",
      " [ 1.     10.236 ]\n",
      " [ 1.      5.4994]\n",
      " [ 1.     20.341 ]\n",
      " [ 1.     10.136 ]\n",
      " [ 1.      7.3345]\n",
      " [ 1.      6.0062]\n",
      " [ 1.      7.2259]\n",
      " [ 1.      5.0269]\n",
      " [ 1.      6.5479]\n",
      " [ 1.      7.5386]\n",
      " [ 1.      5.0365]\n",
      " [ 1.     10.274 ]\n",
      " [ 1.      5.1077]\n",
      " [ 1.      5.7292]\n",
      " [ 1.      5.1884]\n",
      " [ 1.      6.3557]\n",
      " [ 1.      9.7687]\n",
      " [ 1.      6.5159]\n",
      " [ 1.      8.5172]\n",
      " [ 1.      9.1802]\n",
      " [ 1.      6.002 ]\n",
      " [ 1.      5.5204]\n",
      " [ 1.      5.0594]\n",
      " [ 1.      5.7077]\n",
      " [ 1.      7.6366]\n",
      " [ 1.      5.8707]\n",
      " [ 1.      5.3054]\n",
      " [ 1.      8.2934]\n",
      " [ 1.     13.394 ]\n",
      " [ 1.      5.4369]]\n"
     ]
    }
   ],
   "source": [
    "# Add a column of ones to X. The numpy function stack joins arrays along a given axis.\n",
    "# The first axis (axis=0) refers to rows (training examples)\n",
    "# and second axis (axis=1) refers to columns (features).\n",
    "X = np.stack([np.ones(m), X], axis=1)\n",
    "\n",
    "B = X[0, :]\n",
    "\n",
    "# you can print the variable to see the result (remove comment character # and execute the cell)\n",
    "print(X)\n",
    "\n"
   ]
  },
  {
   "cell_type": "markdown",
   "metadata": {
    "colab_type": "text",
    "id": "3TS6Qs0IXmhi"
   },
   "source": [
    "<a id=\"section2\"></a>\n",
    "\n",
    "#### 1.1 Computing the cost $J(w)$\n",
    "\n",
    "As you perform gradient descent to learn minimize the cost function $J(w)$, it is helpful to monitor the convergence by computing the cost. In this section, you will implement a function to calculate $J(w)$ so you can check the convergence of your gradient descent implementation.\n",
    "\n",
    "Your next task is to complete the code for the function `computeCost` which computes $J(w)$. As you are doing this, remember that the variables $X$ and $y$ are not scalar values. $X$ is a matrix whose rows represent the examples from the training set and $y$ is a vector whose each element represent the value at a given row of $X$.\n",
    "<a id=\"computeCost\"></a>\n",
    "\n",
    "<div class=\"alert alert-box alert-warning\">\n",
    "**Vectors and matrices in `numpy`** - Important implementation notes\n",
    "\n",
    "A vector in `numpy` is a one dimensional array, for example `np.array([1, 2, 3])` is a vector. A matrix in `numpy` is a two dimensional array, for example `np.array([[1, 2, 3], [4, 5, 6]])`. However, the following is still considered a matrix `np.array([[1, 2, 3]])` since it has two dimensions, even if it has a shape of 1x3 (which looks like a vector).\n",
    "\n",
    "Given the above, the function `np.dot` which we will use for all matrix/vector multiplication has the following properties:\n",
    "\n",
    "- It always performs inner products on vectors. If `x=np.array([1, 2, 3])`, then `np.dot(x, x)` is a scalar.\n",
    "- For matrix-vector multiplication, so if $X$ is a $m\\times n$ matrix and $y$ is a vector of length $m$, then the operation `np.dot(y, X)` considers $y$ as a $1 \\times m$ vector. On the other hand, if $y$ is a vector of length $n$, then the operation `np.dot(X, y)` considers $y$ as a $n \\times 1$ matrix.\n",
    "- A vector can be promoted to a matrix using `y[None]` or `[y[np.newaxis]`. That is, if `y = np.array([1, 2, 3])` is a vector of size 3, then `y[None, :]` is a matrix of shape $1 \\times 3$. We can use `y[:, None]` to obtain a shape of $3 \\times 1$.\n",
    "<div>\n",
    "<a id=\"gradientDescent\"></a>\n"
   ]
  },
  {
   "cell_type": "code",
   "execution_count": 218,
   "metadata": {
    "colab": {},
    "colab_type": "code",
    "id": "4qvFUBmsXmhi"
   },
   "outputs": [],
   "source": [
    "def computeCost(X, y, w):\n",
    "    \"\"\"\n",
    "    Compute cost for linear regression. Computes the cost of using w as the\n",
    "    parameter for linear regression to fit the data points in X and y.\n",
    "\n",
    "    Parameters\n",
    "    ----------\n",
    "    X : array_like\n",
    "        The input dataset of shape (m, n+1), where m is the number of examples,\n",
    "        and n is the number of features. We assume a vector of \"1\" already \n",
    "        appended to the features so we have n+1 columns.\n",
    "\n",
    "    y : array_like\n",
    "        The values of the function at each data point. This is a vector of\n",
    "        dimension (m, ).\n",
    "\n",
    "    w : array_like\n",
    "        The parameters for the regression function. This is a vector of \n",
    "        dimension (n+1, ).\n",
    "\n",
    "    Returns\n",
    "    -------\n",
    "    J : float\n",
    "        The value of the regression cost function.\n",
    "\n",
    "    Instructions\n",
    "    ------------\n",
    "    Compute the cost of a particular choice of theta. \n",
    "    You should set J to the cost.\n",
    "    \"\"\"\n",
    "\n",
    "    # initialize some useful values\n",
    "    m = y.size  # number of training examples\n",
    "\n",
    "    # You need to return the following variables correctly\n",
    "    J = 0\n",
    "\n",
    "    # ====================== YOUR CODE HERE =====================\n",
    "\n",
    "    for i in range(m - 1): \n",
    "        J = (np.dot(X[i, :], w) - y[i]) ** 2 + J\n",
    "\n",
    "\n",
    "    J = (1 / (2 * m)) * J\n",
    "    # ===========================================================\n",
    "    return J\n"
   ]
  },
  {
   "cell_type": "markdown",
   "metadata": {
    "colab_type": "text",
    "id": "Dz7o8verXmhl"
   },
   "source": [
    "Once you have completed the function, the next step will run `computeCost` two times using two different initializations of $w$. You will see the cost printed to the screen.\n"
   ]
  },
  {
   "cell_type": "code",
   "execution_count": 219,
   "metadata": {
    "colab": {},
    "colab_type": "code",
    "id": "uV1QoQPwXmhm"
   },
   "outputs": [
    {
     "name": "stdout",
     "output_type": "stream",
     "text": [
      "With w = [0, 0] \n",
      "Cost computed = 32.07\n",
      "Expected cost value (approximately) 32.07\n",
      "\n",
      "With w = [-1, 2]\n",
      "Cost computed = 53.80\n",
      "Expected cost value (approximately) 54.24\n"
     ]
    }
   ],
   "source": [
    "J = computeCost(X, y, w=np.array([0.0, 0.0]))\n",
    "print('With w = [0, 0] \\nCost computed = %.2f' % J)\n",
    "print('Expected cost value (approximately) 32.07\\n')\n",
    "\n",
    "# further testing of the cost function\n",
    "J = computeCost(X, y, w=np.array([-1, 2]))\n",
    "print('With w = [-1, 2]\\nCost computed = %.2f' % J)\n",
    "print('Expected cost value (approximately) 54.24')\n"
   ]
  },
  {
   "cell_type": "markdown",
   "metadata": {
    "colab_type": "text",
    "id": "lV6pzaiSXmhr"
   },
   "source": [
    "<a id=\"section3\"></a>\n",
    "\n",
    "#### 1.2. Gradient descent\n",
    "\n",
    "Next, you will complete a function which implements gradient descent.\n",
    "The loop structure has been written for you, and you only need to supply the updates to $w$ within each iteration.\n",
    "\n",
    "As you program, make sure you understand what you are trying to optimize and what is being updated. Keep in mind that the cost $J(w)$ is parameterized by the vector $w$, not $X$ and $y$. That is, we minimize the value of $J(w)$ by changing the values of the vector $w$, not by changing $X$ or $y$. A good way to verify that gradient descent is working correctly is to look at the value of $J(w)$ and check that it is decreasing with each step.\n",
    "\n",
    "The starter code for the function `gradientDescent` calls `computeCost` on every iteration and saves the cost to a `python` list. Assuming you have implemented gradient descent and `computeCost` correctly, your value of $J(w)$ should never increase, and should converge to a steady value by the end of the algorithm.\n"
   ]
  },
  {
   "cell_type": "code",
   "execution_count": null,
   "metadata": {
    "colab": {},
    "colab_type": "code",
    "id": "NLJpyAZDXmhs"
   },
   "outputs": [],
   "source": [
    "def gradientDescent(X, y, w, alpha, num_iters):\n",
    "    \"\"\"\n",
    "    Performs gradient descent to learn `w`. Updates w by taking `num_iters`\n",
    "    gradient steps with learning rate `alpha`.\n",
    "\n",
    "    Parameters\n",
    "    ----------\n",
    "    X : array_like\n",
    "        The input dataset of shape (m x n+1).\n",
    "\n",
    "    y : arra_like\n",
    "        Value at given features. A vector of shape (m, ).\n",
    "\n",
    "    w : array_like\n",
    "        Initial values for the linear regression parameters. \n",
    "        A vector of shape (n+1, ).\n",
    "\n",
    "    alpha : float\n",
    "        The learning rate.\n",
    "\n",
    "    num_iters : int\n",
    "        The number of iterations for gradient descent. \n",
    "\n",
    "    Returns\n",
    "    -------\n",
    "    w : array_like\n",
    "        The learned linear regression parameters. A vector of shape (n+1, ).\n",
    "\n",
    "    J_history : list\n",
    "        A python list for the values of the cost function after each iteration.\n",
    "\n",
    "    Instructions\n",
    "    ------------\n",
    "    Peform a single gradient step on the parameter vector w.\n",
    "\n",
    "    While debugging, it can be useful to print out the values of \n",
    "    the cost function (computeCost) and gradient here.\n",
    "    \"\"\"\n",
    "    # Initialize some useful values\n",
    "    m = y.shape[0]  # number of training examples\n",
    "\n",
    "    # make a copy of w, to avoid changing the original array, since numpy arrays\n",
    "    # are passed by reference to functions\n",
    "    w = w.copy()\n",
    "\n",
    "    J_history = []  # Use a python list to save cost in every iteration\n",
    "\n",
    "    for i in range(num_iters):\n",
    "        # ==================== YOUR CODE HERE =================================\n",
    "\n",
    "        # =====================================================================\n",
    "\n",
    "        # save the cost J in every iteration\n",
    "        J_history.append(computeCost(X, y, w))\n",
    "\n",
    "    return w, J_history\n"
   ]
  },
  {
   "cell_type": "markdown",
   "metadata": {
    "colab_type": "text",
    "id": "zWKrm_JZXmhu"
   },
   "source": [
    "After you are finished call the implemented `gradientDescent` function and print the computed $w$. We initialize the $w$ parameters to 0 and the learning rate $\\alpha$ to 0.01. Execute the following cell to check your code.\n"
   ]
  },
  {
   "cell_type": "code",
   "execution_count": null,
   "metadata": {
    "colab": {},
    "colab_type": "code",
    "id": "QpUrLjpFXmhv"
   },
   "outputs": [],
   "source": [
    "# initialize fitting parameters\n",
    "w = np.zeros(2)\n",
    "\n",
    "# some gradient descent settings\n",
    "iterations = 1500\n",
    "alpha = 0.01\n",
    "\n",
    "w, J_history = gradientDescent(X, y, w, alpha, iterations)\n",
    "print('W found by gradient descent: {:.4f}, {:.4f}'.format(*w))\n",
    "print('Expected w values (approximately): [-3.6303, 1.1664]')\n"
   ]
  },
  {
   "cell_type": "markdown",
   "metadata": {
    "colab_type": "text",
    "id": "BqE19TceXmhy"
   },
   "source": [
    "We will use your final parameters to plot the linear fit. The results should look like the following figure.\n",
    "\n",
    "![](Figures/regression_result.png)\n"
   ]
  },
  {
   "cell_type": "code",
   "execution_count": null,
   "metadata": {
    "colab": {},
    "colab_type": "code",
    "id": "YMuh_IqWXmhy"
   },
   "outputs": [],
   "source": [
    "# plot the linear fit\n",
    "plotData(X[:, 1], y)\n",
    "pyplot.plot(X[:, 1], np.dot(X, w), '-')\n",
    "pyplot.legend(['Training data', 'Linear regression'])\n"
   ]
  },
  {
   "cell_type": "markdown",
   "metadata": {
    "colab_type": "text",
    "id": "mfttCft8Xmh1"
   },
   "source": [
    "Your final values for $w$ will also be used to make predictions on profits in areas of 35,000 and 70,000 people.\n",
    "\n",
    "<div class=\"alert alert-block alert-success\">\n",
    "Note the way that the following lines use matrix multiplication, rather than explicit summation or looping, to calculate the predictions. This is an example of code vectorization in `numpy`.\n",
    "</div>\n",
    "\n",
    "<div class=\"alert alert-block alert-success\">\n",
    "Note that the first argument to the `numpy` function `dot` is a python list. `numpy` can internally converts **valid** python lists to numpy arrays when explicitly provided as arguments to `numpy` functions.\n",
    "</div>\n"
   ]
  },
  {
   "cell_type": "code",
   "execution_count": null,
   "metadata": {
    "colab": {},
    "colab_type": "code",
    "id": "PzOYOEWaXmh1"
   },
   "outputs": [],
   "source": [
    "# Predict values for population sizes of 35,000 and 70,000\n",
    "predict1 = np.dot([1, 3.5], w)\n",
    "print('For population = 35,000, we predict a profit of {:.2f}\\n'.format(\n",
    "    predict1*10000))\n",
    "\n",
    "predict2 = np.dot([1, 7], w)\n",
    "print('For population = 70,000, we predict a profit of {:.2f}\\n'.format(\n",
    "    predict2*10000))\n"
   ]
  },
  {
   "cell_type": "markdown",
   "metadata": {
    "colab_type": "text",
    "id": "TWrTxtNRXmh4"
   },
   "source": [
    "### Visualizing $J(w)$\n",
    "\n",
    "To understand the cost function $J(w)$ better, you will now plot the cost over a 2-dimensional grid of $w_0$ and $w_1$ values. You will not need to code anything new for this part, but you should understand how the code you have written already is creating these images.\n",
    "\n",
    "In the next cell, the code is set up to calculate $J(w)$ over a grid of values using the `computeCost` function that you wrote. After executing the following cell, you will have a 2-D array of $J(w)$ values. Then, those values are used to produce surface and contour plots of $J(w)$ using the matplotlib `plot_surface` and `contourf` functions. The plots should look something like the following:\n",
    "\n",
    "![](Figures/cost_function.png)\n",
    "\n",
    "The purpose of these graphs is to show you how $J(w)$ varies with changes in $w_0$ and $w_1$. The cost function $J(w)$ is bowl-shaped and has a global minimum. (This is easier to see in the contour plot than in the 3D surface plot). This minimum is the optimal point for $w_0$ and $w_1$, and each step of gradient descent moves closer to this point.\n"
   ]
  },
  {
   "cell_type": "code",
   "execution_count": null,
   "metadata": {
    "colab": {},
    "colab_type": "code",
    "id": "CzcNcCdEXmh5"
   },
   "outputs": [],
   "source": [
    "# grid over which we will calculate J\n",
    "w0_vals = np.linspace(-10, 10, 100)\n",
    "w1_vals = np.linspace(-1, 4, 100)\n",
    "\n",
    "# initialize J_vals to a matrix of 0's\n",
    "J_vals = np.zeros((w0_vals.shape[0], w1_vals.shape[0]))\n",
    "\n",
    "# Fill out J_vals\n",
    "for i, w0 in enumerate(w0_vals):\n",
    "    for j, w1 in enumerate(w1_vals):\n",
    "        J_vals[i, j] = computeCost(X, y, [w0, w1])\n",
    "\n",
    "# Because of the way meshgrids work in the surf command, we need to\n",
    "# transpose J_vals before calling surf, or else the axes will be flipped\n",
    "J_vals = J_vals.T\n",
    "\n",
    "# surface plot\n",
    "fig = pyplot.figure(figsize=(12, 5))\n",
    "ax = fig.add_subplot(121, projection='3d')\n",
    "ax.plot_surface(w0_vals, w1_vals, J_vals, cmap='viridis')\n",
    "pyplot.xlabel('w0')\n",
    "pyplot.ylabel('w1')\n",
    "pyplot.title('Surface')\n",
    "\n",
    "# contour plot\n",
    "# Plot J_vals as 15 contours spaced logarithmically between 0.01 and 100\n",
    "ax = pyplot.subplot(122)\n",
    "pyplot.contour(w0_vals, w1_vals, J_vals, linewidths=2,\n",
    "               cmap='viridis', levels=np.logspace(-2, 3, 20))\n",
    "pyplot.xlabel('w0')\n",
    "pyplot.ylabel('w1')\n",
    "pyplot.plot(w[0], w[1], 'ro', ms=10, lw=2)\n",
    "pyplot.title('Contour, showing minimum')\n",
    "pass\n"
   ]
  },
  {
   "cell_type": "markdown",
   "metadata": {
    "colab_type": "text",
    "id": "JSu8goZVXmh8"
   },
   "source": [
    "## PART 2: Linear regression (multiple features)\n",
    "\n",
    "In this part, you will implement linear regression with multiple variables to predict the prices of houses. Suppose you are selling your house and you want to know what a good market price would be. One way to do this is to first collect information on recent houses sold and make a model of housing prices.\n",
    "\n",
    "The file `Data/ex1data2.txt` contains a training set of housing prices in Portland, Oregon. The first column is the size of the house (in square feet), the second column is the number of bedrooms, and the third column is the price\n",
    "of the house.\n",
    "\n",
    "<a id=\"section4\"></a>\n",
    "\n",
    "### 2.1 Feature Normalization\n",
    "\n",
    "We start by loading and displaying some values from this dataset. By looking at the values, note that house sizes are about 1000 times the number of bedrooms. When features differ by orders of magnitude, first performing feature scaling can make gradient descent converge much more quickly.\n"
   ]
  },
  {
   "cell_type": "code",
   "execution_count": null,
   "metadata": {
    "colab": {},
    "colab_type": "code",
    "id": "EK6wq5vDXmh9"
   },
   "outputs": [],
   "source": [
    "# Load data\n",
    "data = np.loadtxt(os.path.join('Data', 'ex1data2.txt'), delimiter=',')\n",
    "X = data[:, :2]\n",
    "y = data[:, 2]\n",
    "m = y.size\n",
    "\n",
    "# print out some data points\n",
    "print('{:>8s}{:>8s}{:>10s}'.format('X[:,0]', 'X[:, 1]', 'y'))\n",
    "print('-'*26)\n",
    "for i in range(10):\n",
    "    print('{:8.0f}{:8.0f}{:10.0f}'.format(X[i, 0], X[i, 1], y[i]))\n"
   ]
  },
  {
   "cell_type": "markdown",
   "metadata": {
    "colab_type": "text",
    "id": "nSQmNMZBXmh_"
   },
   "source": [
    "Your task here is to complete the code in `featureNormalize` function:\n",
    "\n",
    "- Subtract the mean value of each feature from the dataset.\n",
    "- After subtracting the mean, additionally scale (divide) the feature values by their respective “standard deviations.”\n",
    "\n",
    "The standard deviation is a way of measuring how much variation there is in the range of values of a particular feature (most data points will lie within ±2 standard deviations of the mean); this is an alternative to taking the range of values (max-min). In `numpy`, you can use the `std` function to compute the standard deviation.\n",
    "\n",
    "For example, the quantity `X[:, 0]` contains all the values of $x_1$ (house sizes) in the training set, so `np.std(X[:, 0])` computes the standard deviation of the house sizes.\n",
    "At the time that the function `featureNormalize` is called, the extra column of 1’s corresponding to $x_0 = 1$ has not yet been added to $X$.\n",
    "\n",
    "You will do this for all the features and your code should work with datasets of all sizes (any number of features / examples). Note that each column of the matrix $X$ corresponds to one feature.\n",
    "\n",
    "<div class=\"alert alert-block alert-warning\">\n",
    "**Implementation Note:** When normalizing the features, it is important\n",
    "to store the values used for normalization - the mean value and the standard deviation used for the computations. After learning the parameters\n",
    "from the model, we often want to predict the prices of houses we have not\n",
    "seen before. Given a new x value (living room area and number of bedrooms), we must first normalize x using the mean and standard deviation that we had previously computed from the training set.\n",
    "</div>\n",
    "<a id=\"featureNormalize\"></a>\n"
   ]
  },
  {
   "cell_type": "code",
   "execution_count": null,
   "metadata": {
    "colab": {},
    "colab_type": "code",
    "id": "CfVBUiA1Xmh_"
   },
   "outputs": [],
   "source": [
    "def featureNormalize(X):\n",
    "    \"\"\"\n",
    "    Normalizes the features in X. returns a normalized version of X where\n",
    "    the mean value of each feature is 0 and the standard deviation\n",
    "    is 1. This is often a good preprocessing step to do when working with\n",
    "    learning algorithms.\n",
    "\n",
    "    Parameters\n",
    "    ----------\n",
    "    X : array_like\n",
    "        The dataset of shape (m x n).\n",
    "\n",
    "    Returns\n",
    "    -------\n",
    "    X_norm : array_like\n",
    "        The normalized dataset of shape (m x n).\n",
    "\n",
    "    Instructions\n",
    "    ------------\n",
    "    First, for each feature dimension, compute the mean of the feature\n",
    "    and subtract it from the dataset, storing the mean value in mu. \n",
    "    Next, compute the  standard deviation of each feature and divide\n",
    "    each feature by it's standard deviation, storing the standard deviation \n",
    "    in sigma. \n",
    "\n",
    "    Note that X is a matrix where each column is a feature and each row is\n",
    "    an example. You need to perform the normalization separately for each feature. \n",
    "\n",
    "    Hint\n",
    "    ----\n",
    "    You might find the 'np.mean' and 'np.std' functions useful.\n",
    "    \"\"\"\n",
    "    # You need to set these values correctly\n",
    "    X_norm = X.copy()\n",
    "    mu = np.zeros(X.shape[1])\n",
    "    sigma = np.zeros(X.shape[1])\n",
    "\n",
    "    # =========================== YOUR CODE HERE =====================\n",
    "\n",
    "    # ================================================================\n",
    "    return X_norm, mu, sigma\n"
   ]
  },
  {
   "cell_type": "markdown",
   "metadata": {
    "colab_type": "text",
    "id": "xWJCGZ50XmiC"
   },
   "source": [
    "Execute the next cell to run the implemented `featureNormalize` function.\n"
   ]
  },
  {
   "cell_type": "code",
   "execution_count": null,
   "metadata": {
    "colab": {},
    "colab_type": "code",
    "id": "rY8wAHegXmiC"
   },
   "outputs": [],
   "source": [
    "# call featureNormalize on the loaded data\n",
    "X_norm, mu, sigma = featureNormalize(X)\n",
    "\n",
    "print('Computed mean:', mu)\n",
    "print('Computed standard deviation:', sigma)\n"
   ]
  },
  {
   "cell_type": "markdown",
   "metadata": {
    "colab_type": "text",
    "id": "OCqD_vd5XmiE"
   },
   "source": [
    "After the `featureNormalize` function is tested, we now add the intercept term to `X_norm`:\n"
   ]
  },
  {
   "cell_type": "code",
   "execution_count": null,
   "metadata": {
    "colab": {},
    "colab_type": "code",
    "id": "eKzXNFsMXmiE"
   },
   "outputs": [],
   "source": [
    "# Add intercept term to X\n",
    "X = np.concatenate([np.ones((m, 1)), X_norm], axis=1)\n"
   ]
  },
  {
   "cell_type": "markdown",
   "metadata": {
    "colab_type": "text",
    "id": "19V3Wjw5XmiI"
   },
   "source": [
    "<a id=\"section5\"></a>\n",
    "\n",
    "### 2.2 Gradient Descent\n",
    "\n",
    "Previously, you implemented gradient descent on a univariate regression problem. The only difference now is that there is one more feature in the matrix $X$. The hypothesis function and the batch gradient descent update\n",
    "rule remain unchanged.\n",
    "\n",
    "You should complete the code for the functions `computeCostMulti` and `gradientDescentMulti` to implement the cost function and gradient descent for linear regression with multiple features. If your code in the previous part (single feature) already supports multiple features, you can use it here too.\n",
    "Make sure your code supports any number of features and is well-vectorized.\n",
    "You can use the `shape` property of `numpy` arrays to find out how many features are present in the dataset.\n",
    "\n",
    "<div class=\"alert alert-block alert-warning\">\n",
    "**Implementation Note:** In the multivariate case, the cost function can\n",
    "also be written in the following vectorized form:\n",
    "\n",
    "$$ J(w) = \\frac{1}{2m}(Xw - \\vec{y})^T(Xw - \\vec{y}) $$\n",
    "\n",
    "where\n",
    "\n",
    "$$\n",
    "X = \\begin{pmatrix}\n",
    "          - (x^{(1)})^T - \\\\\n",
    "          - (x^{(2)})^T - \\\\\n",
    "          \\vdots \\\\\n",
    "          - (x^{(m)})^T - \\\\ \\\\\n",
    "        \\end{pmatrix} \\qquad \\mathbf{y} = \\begin{bmatrix} y^{(1)} \\\\ y^{(2)} \\\\ \\vdots \\\\ y^{(m)} \\\\\\end{bmatrix}\n",
    "$$\n",
    "\n",
    "the vectorized version is efficient when you are working with numerical computing tools like `numpy`. If you are an expert with matrix operations, you can prove to yourself that the two forms are equivalent.\n",
    "\n",
    "</div>\n",
    "\n",
    "<a id=\"computeCostMulti\"></a>\n"
   ]
  },
  {
   "cell_type": "code",
   "execution_count": null,
   "metadata": {
    "colab": {},
    "colab_type": "code",
    "id": "HAKG8AZFXmiJ"
   },
   "outputs": [],
   "source": [
    "def computeCostMulti(X, y, w):\n",
    "    \"\"\"\n",
    "    Compute cost for linear regression with multiple features.\n",
    "    Computes the cost of using w as the parameter for linear regression to fit the data points in X and y.\n",
    "\n",
    "    Parameters\n",
    "    ----------\n",
    "    X : array_like\n",
    "        The dataset of shape (m x n+1).\n",
    "\n",
    "    y : array_like\n",
    "        A vector of shape (m, ) for the values at a given data point.\n",
    "\n",
    "    w : array_like\n",
    "        The linear regression parameters. A vector of shape (n+1, )\n",
    "\n",
    "    Returns\n",
    "    -------\n",
    "    J : float\n",
    "        The value of the cost function. \n",
    "\n",
    "    Instructions\n",
    "    ------------\n",
    "    Compute the cost of a particular choice of w. You should set J to the cost.\n",
    "    \"\"\"\n",
    "    # Initialize some useful values\n",
    "    m = y.shape[0]  # number of training examples\n",
    "\n",
    "    # You need to return the following variable correctly\n",
    "    J = 0\n",
    "\n",
    "    # ======================= YOUR CODE HERE ===========================\n",
    "    J = (1 / (2 * m)) * np.sigma((np.dot(X, w) - y)^2)\n",
    "    # ==================================================================\n",
    "    return J\n"
   ]
  },
  {
   "cell_type": "code",
   "execution_count": null,
   "metadata": {
    "colab": {},
    "colab_type": "code",
    "id": "DNvxwOtiXmiN"
   },
   "outputs": [],
   "source": [
    "def gradientDescentMulti(X, y, w, alpha, num_iters):\n",
    "    \"\"\"\n",
    "    Performs gradient descent to learn w.\n",
    "    Updates w by taking num_iters gradient steps with learning rate alpha.\n",
    "\n",
    "    Parameters\n",
    "    ----------\n",
    "    X : array_like\n",
    "        The dataset of shape (m x n+1).\n",
    "\n",
    "    y : array_like\n",
    "        A vector of shape (m, ) for the values at a given data point.\n",
    "\n",
    "    w : array_like\n",
    "        The linear regression parameters. A vector of shape (n+1, )\n",
    "\n",
    "    alpha : float\n",
    "        The learning rate for gradient descent. \n",
    "\n",
    "    num_iters : int\n",
    "        The number of iterations to run gradient descent. \n",
    "\n",
    "    Returns\n",
    "    -------\n",
    "    w : array_like\n",
    "        The learned linear regression parameters. A vector of shape (n+1, ).\n",
    "\n",
    "    J_history : list\n",
    "        A python list for the values of the cost function after each iteration.\n",
    "\n",
    "    Instructions\n",
    "    ------------\n",
    "    Peform a single gradient step on the parameter vector w.\n",
    "\n",
    "    While debugging, it can be useful to print out the values of \n",
    "    the cost function (computeCost) and gradient here.\n",
    "    \"\"\"\n",
    "    # Initialize some useful values\n",
    "    m = y.shape[0]  # number of training examples\n",
    "\n",
    "    # make a copy of theta, which will be updated by gradient descent\n",
    "    w = w.copy()\n",
    "\n",
    "    J_history = []\n",
    "\n",
    "    for i in range(num_iters):\n",
    "        # ======================= YOUR CODE HERE ==========================\n",
    "\n",
    "        # =================================================================\n",
    "\n",
    "        # save the cost J in every iteration\n",
    "        J_history.append(computeCostMulti(X, y, w))\n",
    "\n",
    "    return w, J_history\n"
   ]
  },
  {
   "cell_type": "markdown",
   "metadata": {
    "colab_type": "text",
    "id": "duLKz_bYXmiQ"
   },
   "source": [
    "#### Selecting learning rates\n",
    "\n",
    "In this part of the exercise, you will get to try out different learning rates for the dataset and find a learning rate that converges quickly. You can change the learning rate by modifying the following code and changing the part of the code that sets the learning rate.\n",
    "\n",
    "Use your implementation of `gradientDescentMulti` function and run gradient descent for about 50 iterations at the chosen learning rate. The function should also return the history of $J(w)$ values in a vector $J$.\n",
    "\n",
    "After the last iteration, plot the J values against the number of the iterations.\n",
    "\n",
    "If you picked a learning rate within a good range, your plot look similar as the following Figure.\n",
    "\n",
    "![](Figures/learning_rate.png)\n",
    "\n",
    "If your graph looks very different, especially if your value of $J(w)$ increases or even blows up, adjust your learning rate and try again. We recommend trying values of the learning rate $\\alpha$ on a log-scale, at multiplicative steps of about 3 times the previous value (i.e., 0.3, 0.1, 0.03, 0.01 and so on). You may also want to adjust the number of iterations you are running if that will help you see the overall trend in the curve.\n",
    "\n",
    "<div class=\"alert alert-block alert-warning\">\n",
    "**Implementation Note:** If your learning rate is too large, $J(w)$ can diverge and ‘blow up’, resulting in values which are too large for computer calculations. In these situations, `numpy` will tend to return\n",
    "NaNs. NaN stands for ‘not a number’ and is often caused by undefined operations that involve −∞ and +∞.\n",
    "</div>\n",
    "\n",
    "<div class=\"alert alert-block alert-warning\">\n",
    "**MATPLOTLIB tip:** To compare how different learning learning rates affect convergence, it is helpful to plot $J$ for several learning rates on the same figure. This can be done by making `alpha` a python list, and looping across the values within this list, and calling the plot function in every iteration of the loop. It is also useful to have a legend to distinguish the different lines within the plot. Search online for `pyplot.legend` for help on showing legends in `matplotlib`.\n",
    "</div>\n",
    "\n",
    "Notice the changes in the convergence curves as the learning rate changes. With a small learning rate, you should find that gradient descent takes a very long time to converge to the optimal value. Conversely, with a large learning rate, gradient descent might not converge or might even diverge!\n",
    "Using the best learning rate that you found, run the script\n",
    "to run gradient descent until convergence to find the final values of $w$. Next,\n",
    "use this value of $w$ to predict the price of a house with 1650 square feet and\n",
    "3 bedrooms. You will use value later to check your implementation of the normal equations. Don’t forget to normalize your features when you make this prediction!\n"
   ]
  },
  {
   "cell_type": "code",
   "execution_count": null,
   "metadata": {
    "colab": {},
    "colab_type": "code",
    "id": "6hscxF8lXmiR"
   },
   "outputs": [],
   "source": [
    "\"\"\"\n",
    "Instructions\n",
    "------------\n",
    "We have provided you with the following starter code that runs\n",
    "gradient descent with a particular learning rate (alpha). \n",
    "\n",
    "Your task is to first make sure that your functions - `computeCost`\n",
    "and `gradientDescent` already work with  this starter code and\n",
    "support multiple features.\n",
    "\n",
    "After that, try running gradient descent with different values of\n",
    "alpha and see which one gives you the best result.\n",
    "\n",
    "Finally, you should complete the code at the end to predict the price\n",
    "of a 1650 sq-ft, 3 br house.\n",
    "\n",
    "Hint\n",
    "----\n",
    "At prediction, make sure you do the same feature normalization.\n",
    "\"\"\"\n",
    "# Choose some alpha value - change this\n",
    "alpha = 0.1\n",
    "num_iters = 400\n",
    "\n",
    "# init w and run gradient descent\n",
    "w = np.zeros(3)\n",
    "w, J_history = gradientDescentMulti(X, y, w, alpha, num_iters)\n",
    "\n",
    "# Plot the convergence graph\n",
    "pyplot.plot(np.arange(len(J_history)), J_history, lw=2)\n",
    "pyplot.xlabel('Number of iterations')\n",
    "pyplot.ylabel('Cost J')\n",
    "\n",
    "# Display the gradient descent's result\n",
    "print('w computed from gradient descent: {:s}'.format(str(w)))\n",
    "\n",
    "# Estimate the price of a 1650 sq-ft, 3 br house\n",
    "# ======================= YOUR CODE HERE ===========================\n",
    "# Recall that the first column of X is all-ones.\n",
    "# Thus, it does not need to be normalized.\n",
    "\n",
    "price = 0  # You should change this\n",
    "\n",
    "# ===================================================================\n",
    "\n",
    "print(\n",
    "    'Predicted price of a 1650 sq-ft, 3 br house (using gradient descent): ${:.0f}'.format(price))\n"
   ]
  },
  {
   "cell_type": "markdown",
   "metadata": {
    "colab_type": "text",
    "id": "w44GcqRXXmiT"
   },
   "source": [
    "<a id=\"section7\"></a>\n",
    "\n",
    "## PART 3: Linear regression (multiple features, Normal Equation)\n",
    "\n",
    "In the lecture, you learned that the closed-form solution to linear regression is Normal Equation\n",
    "\n",
    "$$ w = \\left( X^T X\\right)^{-1} X^T\\vec{y}$$\n",
    "\n",
    "Using this formula does not require any feature scaling, and you will get an exact solution in one calculation: there is no “loop until convergence” like in gradient descent.\n",
    "\n",
    "First, we will reload the data to ensure that the variables have not been modified. Remember that while you do not need to scale your features, we still need to add a column of 1’s to the $X$ matrix to have an intercept term ($w_0$). The code in the next cell will add the column of 1’s to X for you.\n"
   ]
  },
  {
   "cell_type": "code",
   "execution_count": null,
   "metadata": {
    "colab": {},
    "colab_type": "code",
    "id": "wF7ZgonVXmiT"
   },
   "outputs": [],
   "source": [
    "# Load data\n",
    "data = np.loadtxt(os.path.join('Data', 'ex1data2.txt'), delimiter=',')\n",
    "X = data[:, :2]\n",
    "y = data[:, 2]\n",
    "m = y.size\n",
    "X = np.concatenate([np.ones((m, 1)), X], axis=1)\n"
   ]
  },
  {
   "cell_type": "markdown",
   "metadata": {
    "colab_type": "text",
    "id": "fkbWo7VbXmiV"
   },
   "source": [
    "Complete the code for the function `normalEqn` below to use the formula above to calculate $w$.\n",
    "\n",
    "<a id=\"normalEqn\"></a>\n"
   ]
  },
  {
   "cell_type": "code",
   "execution_count": null,
   "metadata": {
    "colab": {},
    "colab_type": "code",
    "id": "NrtfvzEUXmiW"
   },
   "outputs": [],
   "source": [
    "def normalEqn(X, y):\n",
    "    \"\"\"\n",
    "    Computes the closed-form solution to linear regression using the normal equations.\n",
    "\n",
    "    Parameters\n",
    "    ----------\n",
    "    X : array_like\n",
    "        The dataset of shape (m x n+1).\n",
    "\n",
    "    y : array_like\n",
    "        The value at each data point. A vector of shape (m, ).\n",
    "\n",
    "    Returns\n",
    "    -------\n",
    "    w : array_like\n",
    "        Estimated linear regression parameters. A vector of shape (n+1, ).\n",
    "\n",
    "    Instructions\n",
    "    ------------\n",
    "    Complete the code to compute the closed form solution to linear\n",
    "    regression and put the result in theta.\n",
    "\n",
    "    Hint\n",
    "    ----\n",
    "    Look up the function `np.linalg.pinv` for computing matrix inverse.\n",
    "    \"\"\"\n",
    "    w = np.zeros(X.shape[1])\n",
    "\n",
    "    # ===================== YOUR CODE HERE ============================\n",
    "\n",
    "    # =================================================================\n",
    "    return w\n"
   ]
  },
  {
   "cell_type": "code",
   "execution_count": null,
   "metadata": {
    "colab": {},
    "colab_type": "code",
    "id": "54b72ZpjXmiZ"
   },
   "outputs": [],
   "source": [
    "# Calculate the parameters from the normal equation\n",
    "w = normalEqn(X, y)\n",
    "\n",
    "# Display normal equation's result\n",
    "print('w computed from the normal equations: {:s}'.format(str(w)))\n",
    "\n",
    "# Estimate the price of a 1650 sq-ft, 3 br house\n",
    "# ====================== YOUR CODE HERE ======================\n",
    "price = 0  # You should change this\n",
    "\n",
    "# ============================================================\n",
    "\n",
    "print(\n",
    "    'Predicted price of a 1650 sq-ft, 3 br house (using normal equations): ${:.0f}'.format(price))\n"
   ]
  },
  {
   "cell_type": "markdown",
   "metadata": {
    "colab_type": "text",
    "id": "0O7qoYtSXmif"
   },
   "source": [
    "## Submit the solution\n",
    "\n",
    "When you completed the excercise, download (form File menu) this file as a jupyter Notebook file (.ipynb) and uplaod this file in the CANVAS\n",
    "\n",
    "_By writing down our names we declare that we have done the assignements ourselevs:_\n",
    "\n",
    "- First Name Last Name:\n",
    "- First Name Last Name:\n"
   ]
  },
  {
   "cell_type": "code",
   "execution_count": null,
   "metadata": {
    "colab": {},
    "colab_type": "code",
    "id": "_spMpBfCXmig"
   },
   "outputs": [],
   "source": []
  }
 ],
 "metadata": {
  "colab": {
   "name": "Lab2.ipynb",
   "provenance": []
  },
  "kernelspec": {
   "display_name": "Python 3 (ipykernel)",
   "language": "python",
   "name": "python3"
  },
  "language_info": {
   "codemirror_mode": {
    "name": "ipython",
    "version": 3
   },
   "file_extension": ".py",
   "mimetype": "text/x-python",
   "name": "python",
   "nbconvert_exporter": "python",
   "pygments_lexer": "ipython3",
   "version": "3.9.12"
  },
  "vscode": {
   "interpreter": {
    "hash": "fac56d773f6c6235819953b8082b45f8101e4d5db79ff57148c76eeaba30e8a3"
   }
  }
 },
 "nbformat": 4,
 "nbformat_minor": 1
}
